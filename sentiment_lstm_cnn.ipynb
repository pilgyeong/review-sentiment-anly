{
  "nbformat": 4,
  "nbformat_minor": 0,
  "metadata": {
    "colab": {
      "provenance": [],
      "collapsed_sections": [],
      "authorship_tag": "ABX9TyMp6b8e3QkZHvFiDD/1Q9sj",
      "include_colab_link": true
    },
    "kernelspec": {
      "name": "python3",
      "display_name": "Python 3"
    },
    "language_info": {
      "name": "python"
    },
    "accelerator": "GPU",
    "gpuClass": "standard"
  },
  "cells": [
    {
      "cell_type": "markdown",
      "metadata": {
        "id": "view-in-github",
        "colab_type": "text"
      },
      "source": [
        "<a href=\"https://colab.research.google.com/github/pilgyeong/review-sentiment-anly/blob/main/sentiment_lstm_cnn.ipynb\" target=\"_parent\"><img src=\"https://colab.research.google.com/assets/colab-badge.svg\" alt=\"Open In Colab\"/></a>"
      ]
    },
    {
      "cell_type": "markdown",
      "source": [
        "## 0. 환경설정\n",
        "- Google Drive Mount\n",
        "- Settings for Data Visualization\n",
        "- Import default library\n",
        "- Load Dataset"
      ],
      "metadata": {
        "id": "rwbrhs8OAgO3"
      }
    },
    {
      "cell_type": "code",
      "execution_count": null,
      "metadata": {
        "id": "1fiL0pqR7O1L"
      },
      "outputs": [],
      "source": [
        "'''=================='''\n",
        "'''Google Drive Mount'''\n",
        "'''=================='''\n",
        "\n",
        "from google.colab import drive\n",
        "drive.mount('/content/drive')"
      ]
    },
    {
      "cell_type": "code",
      "source": [
        "'''==============================='''\n",
        "'''Settings for Data Visualization'''\n",
        "'''==============================='''\n",
        "\n",
        "# 시스템 환경에 따른 기본폰트 설정하는 함수\n",
        "def get_font_family():\n",
        "  import platform\n",
        "  systemName = platform.system()\n",
        "  if systemName == 'Darwin':\n",
        "    font_family = 'AppleGothic'\n",
        "  elif systemName == 'Windows':\n",
        "    font_family = 'Malgun Gothic'\n",
        "  else:\n",
        "    # Linux\n",
        "    !apt-get install fonts-nanum -qq  > /dev/null\n",
        "    !fc-cache -fv\n",
        "    import matplotlib as mpl\n",
        "    mpl.font_manager._rebuild()\n",
        "    findfont = mpl.font_manager.fontManager.findfont\n",
        "    mpl.font_manager.findfont = findfont\n",
        "    mpl.backends.backend_agg.findfont = findfont\n",
        "    font_family = \"NanumBarunGothic\"\n",
        "  return font_family\n",
        "\n",
        "# 시각화 유형별 스타일 설정\n",
        "import matplotlib.pyplot as plt\n",
        "font_family = get_font_family()\n",
        "plt.style.use(\"ggplot\")\n",
        "plt.rc(\"font\", family=font_family)\n",
        "plt.rc(\"axes\", unicode_minus=False)\n",
        "from IPython.display import set_matplotlib_formats\n",
        "set_matplotlib_formats(\"retina\")"
      ],
      "metadata": {
        "id": "K9GrBkVm9Vyg"
      },
      "execution_count": null,
      "outputs": []
    },
    {
      "cell_type": "code",
      "source": [
        "%%bash\n",
        "apt-get update\n",
        "apt-get install g++ openjdk-8-jdk python-dev python3-dev\n",
        "pip3 install JPype1\n",
        "pip3 install konlpy"
      ],
      "metadata": {
        "id": "lqFQtYPHdXM5"
      },
      "execution_count": null,
      "outputs": []
    },
    {
      "cell_type": "code",
      "source": [
        "%env JAVA_HOME \"/usr/lib/jvm/java-8-openjdk-amd64\""
      ],
      "metadata": {
        "id": "Jhvpdwtudi1l"
      },
      "execution_count": null,
      "outputs": []
    },
    {
      "cell_type": "code",
      "source": [
        "%%bash\n",
        "bash <(curl -s https://raw.githubusercontent.com/konlpy/konlpy/master/scripts/mecab.sh)\n",
        "pip3 install /tmp/mecab-python-0.996"
      ],
      "metadata": {
        "id": "Vgf5EpJDdkQC"
      },
      "execution_count": null,
      "outputs": []
    },
    {
      "cell_type": "code",
      "source": [
        "'''======================'''\n",
        "'''Import default library'''\n",
        "'''======================'''\n",
        "\n",
        "import pandas as pd\n",
        "import numpy as np\n",
        "import tensorflow as tf\n",
        "import matplotlib.pyplot as plt\n",
        "import seaborn as sns\n",
        "\n",
        "from collections import Counter\n",
        "from sklearn.model_selection import train_test_split\n",
        "\n",
        "from konlpy.tag import Mecab\n",
        "\n",
        "# fit\n",
        "mecab = Mecab()"
      ],
      "metadata": {
        "id": "qP_5Ih_o9V3d"
      },
      "execution_count": 6,
      "outputs": []
    },
    {
      "cell_type": "markdown",
      "source": [
        "## 1. 데이터 로드"
      ],
      "metadata": {
        "id": "zDr99qmMdPxl"
      }
    },
    {
      "cell_type": "code",
      "source": [
        "train = pd.read_table('/content/drive/MyDrive/Colab Notebooks/movieReview_NLP/sentiment-nsmc/data/nsmc_train.txt')\n",
        "test = pd.read_table('/content/drive/MyDrive/Colab Notebooks/movieReview_NLP/sentiment-nsmc/data/nsmc_test.txt')"
      ],
      "metadata": {
        "id": "zuU6mHbTdRlC"
      },
      "execution_count": 7,
      "outputs": []
    },
    {
      "cell_type": "code",
      "source": [
        "train.head()"
      ],
      "metadata": {
        "colab": {
          "base_uri": "https://localhost:8080/",
          "height": 206
        },
        "id": "58jy2fiVe1c5",
        "outputId": "b144da95-50fd-45d2-9055-5072e3ac46b5"
      },
      "execution_count": 8,
      "outputs": [
        {
          "output_type": "execute_result",
          "data": {
            "text/plain": [
              "         id                                           document  label\n",
              "0   9976970                                아 더빙.. 진짜 짜증나네요 목소리      0\n",
              "1   3819312                  흠...포스터보고 초딩영화줄....오버연기조차 가볍지 않구나      1\n",
              "2  10265843                                  너무재밓었다그래서보는것을추천한다      0\n",
              "3   9045019                      교도소 이야기구먼 ..솔직히 재미는 없다..평점 조정      0\n",
              "4   6483659  사이몬페그의 익살스런 연기가 돋보였던 영화!스파이더맨에서 늙어보이기만 했던 커스틴 ...      1"
            ],
            "text/html": [
              "\n",
              "  <div id=\"df-44ca860f-35df-454d-a537-df7b4e5b1a7a\">\n",
              "    <div class=\"colab-df-container\">\n",
              "      <div>\n",
              "<style scoped>\n",
              "    .dataframe tbody tr th:only-of-type {\n",
              "        vertical-align: middle;\n",
              "    }\n",
              "\n",
              "    .dataframe tbody tr th {\n",
              "        vertical-align: top;\n",
              "    }\n",
              "\n",
              "    .dataframe thead th {\n",
              "        text-align: right;\n",
              "    }\n",
              "</style>\n",
              "<table border=\"1\" class=\"dataframe\">\n",
              "  <thead>\n",
              "    <tr style=\"text-align: right;\">\n",
              "      <th></th>\n",
              "      <th>id</th>\n",
              "      <th>document</th>\n",
              "      <th>label</th>\n",
              "    </tr>\n",
              "  </thead>\n",
              "  <tbody>\n",
              "    <tr>\n",
              "      <th>0</th>\n",
              "      <td>9976970</td>\n",
              "      <td>아 더빙.. 진짜 짜증나네요 목소리</td>\n",
              "      <td>0</td>\n",
              "    </tr>\n",
              "    <tr>\n",
              "      <th>1</th>\n",
              "      <td>3819312</td>\n",
              "      <td>흠...포스터보고 초딩영화줄....오버연기조차 가볍지 않구나</td>\n",
              "      <td>1</td>\n",
              "    </tr>\n",
              "    <tr>\n",
              "      <th>2</th>\n",
              "      <td>10265843</td>\n",
              "      <td>너무재밓었다그래서보는것을추천한다</td>\n",
              "      <td>0</td>\n",
              "    </tr>\n",
              "    <tr>\n",
              "      <th>3</th>\n",
              "      <td>9045019</td>\n",
              "      <td>교도소 이야기구먼 ..솔직히 재미는 없다..평점 조정</td>\n",
              "      <td>0</td>\n",
              "    </tr>\n",
              "    <tr>\n",
              "      <th>4</th>\n",
              "      <td>6483659</td>\n",
              "      <td>사이몬페그의 익살스런 연기가 돋보였던 영화!스파이더맨에서 늙어보이기만 했던 커스틴 ...</td>\n",
              "      <td>1</td>\n",
              "    </tr>\n",
              "  </tbody>\n",
              "</table>\n",
              "</div>\n",
              "      <button class=\"colab-df-convert\" onclick=\"convertToInteractive('df-44ca860f-35df-454d-a537-df7b4e5b1a7a')\"\n",
              "              title=\"Convert this dataframe to an interactive table.\"\n",
              "              style=\"display:none;\">\n",
              "        \n",
              "  <svg xmlns=\"http://www.w3.org/2000/svg\" height=\"24px\"viewBox=\"0 0 24 24\"\n",
              "       width=\"24px\">\n",
              "    <path d=\"M0 0h24v24H0V0z\" fill=\"none\"/>\n",
              "    <path d=\"M18.56 5.44l.94 2.06.94-2.06 2.06-.94-2.06-.94-.94-2.06-.94 2.06-2.06.94zm-11 1L8.5 8.5l.94-2.06 2.06-.94-2.06-.94L8.5 2.5l-.94 2.06-2.06.94zm10 10l.94 2.06.94-2.06 2.06-.94-2.06-.94-.94-2.06-.94 2.06-2.06.94z\"/><path d=\"M17.41 7.96l-1.37-1.37c-.4-.4-.92-.59-1.43-.59-.52 0-1.04.2-1.43.59L10.3 9.45l-7.72 7.72c-.78.78-.78 2.05 0 2.83L4 21.41c.39.39.9.59 1.41.59.51 0 1.02-.2 1.41-.59l7.78-7.78 2.81-2.81c.8-.78.8-2.07 0-2.86zM5.41 20L4 18.59l7.72-7.72 1.47 1.35L5.41 20z\"/>\n",
              "  </svg>\n",
              "      </button>\n",
              "      \n",
              "  <style>\n",
              "    .colab-df-container {\n",
              "      display:flex;\n",
              "      flex-wrap:wrap;\n",
              "      gap: 12px;\n",
              "    }\n",
              "\n",
              "    .colab-df-convert {\n",
              "      background-color: #E8F0FE;\n",
              "      border: none;\n",
              "      border-radius: 50%;\n",
              "      cursor: pointer;\n",
              "      display: none;\n",
              "      fill: #1967D2;\n",
              "      height: 32px;\n",
              "      padding: 0 0 0 0;\n",
              "      width: 32px;\n",
              "    }\n",
              "\n",
              "    .colab-df-convert:hover {\n",
              "      background-color: #E2EBFA;\n",
              "      box-shadow: 0px 1px 2px rgba(60, 64, 67, 0.3), 0px 1px 3px 1px rgba(60, 64, 67, 0.15);\n",
              "      fill: #174EA6;\n",
              "    }\n",
              "\n",
              "    [theme=dark] .colab-df-convert {\n",
              "      background-color: #3B4455;\n",
              "      fill: #D2E3FC;\n",
              "    }\n",
              "\n",
              "    [theme=dark] .colab-df-convert:hover {\n",
              "      background-color: #434B5C;\n",
              "      box-shadow: 0px 1px 3px 1px rgba(0, 0, 0, 0.15);\n",
              "      filter: drop-shadow(0px 1px 2px rgba(0, 0, 0, 0.3));\n",
              "      fill: #FFFFFF;\n",
              "    }\n",
              "  </style>\n",
              "\n",
              "      <script>\n",
              "        const buttonEl =\n",
              "          document.querySelector('#df-44ca860f-35df-454d-a537-df7b4e5b1a7a button.colab-df-convert');\n",
              "        buttonEl.style.display =\n",
              "          google.colab.kernel.accessAllowed ? 'block' : 'none';\n",
              "\n",
              "        async function convertToInteractive(key) {\n",
              "          const element = document.querySelector('#df-44ca860f-35df-454d-a537-df7b4e5b1a7a');\n",
              "          const dataTable =\n",
              "            await google.colab.kernel.invokeFunction('convertToInteractive',\n",
              "                                                     [key], {});\n",
              "          if (!dataTable) return;\n",
              "\n",
              "          const docLinkHtml = 'Like what you see? Visit the ' +\n",
              "            '<a target=\"_blank\" href=https://colab.research.google.com/notebooks/data_table.ipynb>data table notebook</a>'\n",
              "            + ' to learn more about interactive tables.';\n",
              "          element.innerHTML = '';\n",
              "          dataTable['output_type'] = 'display_data';\n",
              "          await google.colab.output.renderOutput(dataTable, element);\n",
              "          const docLink = document.createElement('div');\n",
              "          docLink.innerHTML = docLinkHtml;\n",
              "          element.appendChild(docLink);\n",
              "        }\n",
              "      </script>\n",
              "    </div>\n",
              "  </div>\n",
              "  "
            ]
          },
          "metadata": {},
          "execution_count": 8
        }
      ]
    },
    {
      "cell_type": "code",
      "source": [
        "test.head()"
      ],
      "metadata": {
        "colab": {
          "base_uri": "https://localhost:8080/",
          "height": 206
        },
        "id": "2Njh1F2he5Fa",
        "outputId": "91479e3e-b159-4a8c-af30-70a8f619b4f8"
      },
      "execution_count": 9,
      "outputs": [
        {
          "output_type": "execute_result",
          "data": {
            "text/plain": [
              "        id                                           document  label\n",
              "0  6270596                                                굳 ㅋ      1\n",
              "1  9274899                               GDNTOPCLASSINTHECLUB      0\n",
              "2  8544678             뭐야 이 평점들은.... 나쁘진 않지만 10점 짜리는 더더욱 아니잖아      0\n",
              "3  6825595                   지루하지는 않은데 완전 막장임... 돈주고 보기에는....      0\n",
              "4  6723715  3D만 아니었어도 별 다섯 개 줬을텐데.. 왜 3D로 나와서 제 심기를 불편하게 하죠??      0"
            ],
            "text/html": [
              "\n",
              "  <div id=\"df-1cdecf3e-f66e-4d8e-8602-e945825cf80d\">\n",
              "    <div class=\"colab-df-container\">\n",
              "      <div>\n",
              "<style scoped>\n",
              "    .dataframe tbody tr th:only-of-type {\n",
              "        vertical-align: middle;\n",
              "    }\n",
              "\n",
              "    .dataframe tbody tr th {\n",
              "        vertical-align: top;\n",
              "    }\n",
              "\n",
              "    .dataframe thead th {\n",
              "        text-align: right;\n",
              "    }\n",
              "</style>\n",
              "<table border=\"1\" class=\"dataframe\">\n",
              "  <thead>\n",
              "    <tr style=\"text-align: right;\">\n",
              "      <th></th>\n",
              "      <th>id</th>\n",
              "      <th>document</th>\n",
              "      <th>label</th>\n",
              "    </tr>\n",
              "  </thead>\n",
              "  <tbody>\n",
              "    <tr>\n",
              "      <th>0</th>\n",
              "      <td>6270596</td>\n",
              "      <td>굳 ㅋ</td>\n",
              "      <td>1</td>\n",
              "    </tr>\n",
              "    <tr>\n",
              "      <th>1</th>\n",
              "      <td>9274899</td>\n",
              "      <td>GDNTOPCLASSINTHECLUB</td>\n",
              "      <td>0</td>\n",
              "    </tr>\n",
              "    <tr>\n",
              "      <th>2</th>\n",
              "      <td>8544678</td>\n",
              "      <td>뭐야 이 평점들은.... 나쁘진 않지만 10점 짜리는 더더욱 아니잖아</td>\n",
              "      <td>0</td>\n",
              "    </tr>\n",
              "    <tr>\n",
              "      <th>3</th>\n",
              "      <td>6825595</td>\n",
              "      <td>지루하지는 않은데 완전 막장임... 돈주고 보기에는....</td>\n",
              "      <td>0</td>\n",
              "    </tr>\n",
              "    <tr>\n",
              "      <th>4</th>\n",
              "      <td>6723715</td>\n",
              "      <td>3D만 아니었어도 별 다섯 개 줬을텐데.. 왜 3D로 나와서 제 심기를 불편하게 하죠??</td>\n",
              "      <td>0</td>\n",
              "    </tr>\n",
              "  </tbody>\n",
              "</table>\n",
              "</div>\n",
              "      <button class=\"colab-df-convert\" onclick=\"convertToInteractive('df-1cdecf3e-f66e-4d8e-8602-e945825cf80d')\"\n",
              "              title=\"Convert this dataframe to an interactive table.\"\n",
              "              style=\"display:none;\">\n",
              "        \n",
              "  <svg xmlns=\"http://www.w3.org/2000/svg\" height=\"24px\"viewBox=\"0 0 24 24\"\n",
              "       width=\"24px\">\n",
              "    <path d=\"M0 0h24v24H0V0z\" fill=\"none\"/>\n",
              "    <path d=\"M18.56 5.44l.94 2.06.94-2.06 2.06-.94-2.06-.94-.94-2.06-.94 2.06-2.06.94zm-11 1L8.5 8.5l.94-2.06 2.06-.94-2.06-.94L8.5 2.5l-.94 2.06-2.06.94zm10 10l.94 2.06.94-2.06 2.06-.94-2.06-.94-.94-2.06-.94 2.06-2.06.94z\"/><path d=\"M17.41 7.96l-1.37-1.37c-.4-.4-.92-.59-1.43-.59-.52 0-1.04.2-1.43.59L10.3 9.45l-7.72 7.72c-.78.78-.78 2.05 0 2.83L4 21.41c.39.39.9.59 1.41.59.51 0 1.02-.2 1.41-.59l7.78-7.78 2.81-2.81c.8-.78.8-2.07 0-2.86zM5.41 20L4 18.59l7.72-7.72 1.47 1.35L5.41 20z\"/>\n",
              "  </svg>\n",
              "      </button>\n",
              "      \n",
              "  <style>\n",
              "    .colab-df-container {\n",
              "      display:flex;\n",
              "      flex-wrap:wrap;\n",
              "      gap: 12px;\n",
              "    }\n",
              "\n",
              "    .colab-df-convert {\n",
              "      background-color: #E8F0FE;\n",
              "      border: none;\n",
              "      border-radius: 50%;\n",
              "      cursor: pointer;\n",
              "      display: none;\n",
              "      fill: #1967D2;\n",
              "      height: 32px;\n",
              "      padding: 0 0 0 0;\n",
              "      width: 32px;\n",
              "    }\n",
              "\n",
              "    .colab-df-convert:hover {\n",
              "      background-color: #E2EBFA;\n",
              "      box-shadow: 0px 1px 2px rgba(60, 64, 67, 0.3), 0px 1px 3px 1px rgba(60, 64, 67, 0.15);\n",
              "      fill: #174EA6;\n",
              "    }\n",
              "\n",
              "    [theme=dark] .colab-df-convert {\n",
              "      background-color: #3B4455;\n",
              "      fill: #D2E3FC;\n",
              "    }\n",
              "\n",
              "    [theme=dark] .colab-df-convert:hover {\n",
              "      background-color: #434B5C;\n",
              "      box-shadow: 0px 1px 3px 1px rgba(0, 0, 0, 0.15);\n",
              "      filter: drop-shadow(0px 1px 2px rgba(0, 0, 0, 0.3));\n",
              "      fill: #FFFFFF;\n",
              "    }\n",
              "  </style>\n",
              "\n",
              "      <script>\n",
              "        const buttonEl =\n",
              "          document.querySelector('#df-1cdecf3e-f66e-4d8e-8602-e945825cf80d button.colab-df-convert');\n",
              "        buttonEl.style.display =\n",
              "          google.colab.kernel.accessAllowed ? 'block' : 'none';\n",
              "\n",
              "        async function convertToInteractive(key) {\n",
              "          const element = document.querySelector('#df-1cdecf3e-f66e-4d8e-8602-e945825cf80d');\n",
              "          const dataTable =\n",
              "            await google.colab.kernel.invokeFunction('convertToInteractive',\n",
              "                                                     [key], {});\n",
              "          if (!dataTable) return;\n",
              "\n",
              "          const docLinkHtml = 'Like what you see? Visit the ' +\n",
              "            '<a target=\"_blank\" href=https://colab.research.google.com/notebooks/data_table.ipynb>data table notebook</a>'\n",
              "            + ' to learn more about interactive tables.';\n",
              "          element.innerHTML = '';\n",
              "          dataTable['output_type'] = 'display_data';\n",
              "          await google.colab.output.renderOutput(dataTable, element);\n",
              "          const docLink = document.createElement('div');\n",
              "          docLink.innerHTML = docLinkHtml;\n",
              "          element.appendChild(docLink);\n",
              "        }\n",
              "      </script>\n",
              "    </div>\n",
              "  </div>\n",
              "  "
            ]
          },
          "metadata": {},
          "execution_count": 9
        }
      ]
    },
    {
      "cell_type": "code",
      "source": [
        "print(f'train shape: {train.shape}')\n",
        "print(f'test shape: {test.shape}')"
      ],
      "metadata": {
        "colab": {
          "base_uri": "https://localhost:8080/"
        },
        "id": "jIF6dUFAe6y3",
        "outputId": "91293814-83b7-4f1c-b2b6-8d070116695a"
      },
      "execution_count": 10,
      "outputs": [
        {
          "output_type": "stream",
          "name": "stdout",
          "text": [
            "train shape: (150000, 3)\n",
            "test shape: (50000, 3)\n"
          ]
        }
      ]
    },
    {
      "cell_type": "markdown",
      "source": [
        "## 2. EDA"
      ],
      "metadata": {
        "id": "km88pSslfGd6"
      }
    },
    {
      "cell_type": "code",
      "source": [
        "# null값 확인\n",
        "print(f'train null개수: {train.isnull().sum()}')\n",
        "print(f'test null개수: {test.isnull().sum()}')"
      ],
      "metadata": {
        "colab": {
          "base_uri": "https://localhost:8080/"
        },
        "id": "k_OuVgiofEeP",
        "outputId": "9d049565-78bf-4319-abe3-fdab7cf8ac47"
      },
      "execution_count": 11,
      "outputs": [
        {
          "output_type": "stream",
          "name": "stdout",
          "text": [
            "train null개수: id          0\n",
            "document    5\n",
            "label       0\n",
            "dtype: int64\n",
            "test null개수: id          0\n",
            "document    3\n",
            "label       0\n",
            "dtype: int64\n"
          ]
        }
      ]
    },
    {
      "cell_type": "code",
      "source": [
        "# 라벨링 비율 확인\n",
        "train['label'].value_counts()"
      ],
      "metadata": {
        "colab": {
          "base_uri": "https://localhost:8080/"
        },
        "id": "qEOVKHlffcRM",
        "outputId": "2aaead29-8fba-4f72-ad3b-9e898f9e94c0"
      },
      "execution_count": 12,
      "outputs": [
        {
          "output_type": "execute_result",
          "data": {
            "text/plain": [
              "0    75173\n",
              "1    74827\n",
              "Name: label, dtype: int64"
            ]
          },
          "metadata": {},
          "execution_count": 12
        }
      ]
    },
    {
      "cell_type": "code",
      "source": [
        "test['label'].value_counts()"
      ],
      "metadata": {
        "colab": {
          "base_uri": "https://localhost:8080/"
        },
        "id": "0u7dsin2fzr_",
        "outputId": "426c0c95-23bb-4b76-ec93-3b1e08148094"
      },
      "execution_count": 13,
      "outputs": [
        {
          "output_type": "execute_result",
          "data": {
            "text/plain": [
              "1    25173\n",
              "0    24827\n",
              "Name: label, dtype: int64"
            ]
          },
          "metadata": {},
          "execution_count": 13
        }
      ]
    },
    {
      "cell_type": "markdown",
      "source": [
        "## 3. 전처리"
      ],
      "metadata": {
        "id": "M8bfyP0mg04X"
      }
    },
    {
      "cell_type": "code",
      "source": [
        "tokenizer = Mecab()\n",
        "\n",
        "def preprocess(train, test):\n",
        "    train.drop_duplicates(subset=['document'], inplace=True)\n",
        "    test.drop_duplicates(subset=['document'], inplace=True)\n",
        "    train = train.dropna()\n",
        "    test = test.dropna()\n",
        "    print(f\"train shape => {train.shape} \\ntest shape => {test.shape}\")\n",
        "    \n",
        "    train_tokenized = [[token+\"/\"+POS for token, POS in tokenizer.pos(doc_)] for doc_ in train['document']]\n",
        "    test_tokenized = [[token+\"/\"+POS for token, POS in tokenizer.pos(doc_)] for doc_ in test['document']]\n",
        "    \n",
        "    exclusion_tags = ['JKS', 'JKC', 'JKG', 'JKO', 'JKB', 'JKV', 'JKQ', 'JX', 'JC',\n",
        "                      'SF', 'SP', 'SS', 'SE', 'SO', 'EF', 'EP', 'EC', 'ETN', 'ETM',\n",
        "                      'XSN', 'XSV', 'XSA']\n",
        "    \n",
        "    f = lambda x: x in exclusion_tags\n",
        "    \n",
        "    X_train = []\n",
        "    for i in range(len(train_tokenized)):\n",
        "        temp = []\n",
        "        for j in range(len(train_tokenized[i])):\n",
        "            if f(train_tokenized[i][j].split('/')[1]) is False:\n",
        "                temp.append(train_tokenized[i][j].split('/')[0])\n",
        "        X_train.append(temp)\n",
        "    \n",
        "    X_test = []\n",
        "    for i in range(len(test_tokenized)):\n",
        "        temp = []\n",
        "        for j in range(len(test_tokenized[i])):\n",
        "            if f(test_tokenized[i][j].split('/')[1]) is False:\n",
        "                temp.append(test_tokenized[i][j].split('/')[0])\n",
        "        X_test.append(temp)\n",
        "    \n",
        "    words = np.concatenate(X_train).tolist()\n",
        "    counter = Counter(words)\n",
        "    counter = counter.most_common(30000-4)\n",
        "    vocab = ['', '', '', ''] + [key for key, _ in counter]\n",
        "    word_to_index = {word:index for index, word in enumerate(vocab)}\n",
        "    \n",
        "    def wordlist_to_indexlist(wordlist):\n",
        "        return [word_to_index[word] if word in word_to_index else word_to_index[''] for word in wordlist]\n",
        "    \n",
        "    X_train = list(map(wordlist_to_indexlist, X_train))\n",
        "    X_test = list(map(wordlist_to_indexlist, X_test))\n",
        "    \n",
        "    return X_train, np.array(list(train['label'])), X_test, np.array(list(test['label'])), word_to_index"
      ],
      "metadata": {
        "id": "gfTM1TZTgv9a"
      },
      "execution_count": 14,
      "outputs": []
    },
    {
      "cell_type": "code",
      "source": [
        "X_train, y_train, X_test, y_test, word_to_index = preprocess(train, test)"
      ],
      "metadata": {
        "colab": {
          "base_uri": "https://localhost:8080/"
        },
        "id": "I2P25IGYhR0j",
        "outputId": "2f6384a1-049f-4fea-d967-d254d655a430"
      },
      "execution_count": 15,
      "outputs": [
        {
          "output_type": "stream",
          "name": "stdout",
          "text": [
            "train shape => (146182, 3) \n",
            "test shape => (49157, 3)\n"
          ]
        }
      ]
    },
    {
      "cell_type": "code",
      "source": [
        "index_to_word = {index:word for word, index in word_to_index.items()}"
      ],
      "metadata": {
        "id": "h6smym04hS7U"
      },
      "execution_count": 16,
      "outputs": []
    },
    {
      "cell_type": "code",
      "source": [
        "data = list(X_train)+list(X_test)\n",
        "\n",
        "tokens_num = [len(tokens) for tokens in data]\n",
        "tokens_num = np.array(tokens_num)\n",
        "\n",
        "# 평균값, 최댓값, 표준편차\n",
        "print(f\"토큰 길이 평균: {np.mean(tokens_num)}\")\n",
        "print(f\"토큰 길이 최대: {np.max(tokens_num)}\")\n",
        "print(f\"토큰 길이 표준편차: {np.std(tokens_num)}\")\n",
        "\n",
        "tokens_max = np.mean(tokens_num) + 2 * np.std(tokens_num)\n",
        "maxlen = int(tokens_max)\n",
        "print(f'설정 최대 길이: {maxlen}')\n",
        "print(f'전체 문장의 {np.sum(tokens_num < tokens_max) / len(tokens_num)}%가 설정값인 {maxlen}에 포함됩니다.')"
      ],
      "metadata": {
        "colab": {
          "base_uri": "https://localhost:8080/"
        },
        "id": "Icgk3H8hhTBE",
        "outputId": "bebcdf83-d709-4867-bdf8-e77401bdb776"
      },
      "execution_count": 17,
      "outputs": [
        {
          "output_type": "stream",
          "name": "stdout",
          "text": [
            "토큰 길이 평균: 12.248552516394575\n",
            "토큰 길이 최대: 115\n",
            "토큰 길이 표준편차: 9.88548851517802\n",
            "설정 최대 길이: 32\n",
            "전체 문장의 0.9372014805031254%가 설정값인 32에 포함됩니다.\n"
          ]
        }
      ]
    },
    {
      "cell_type": "code",
      "source": [
        "X_train = tf.keras.preprocessing.sequence.pad_sequences(X_train, padding='pre', \\\n",
        "                                                        value=word_to_index[\"\"], maxlen=70)\n",
        "\n",
        "X_test = tf.keras.preprocessing.sequence.pad_sequences(X_test, padding='pre', \\\n",
        "                                                       value=word_to_index[\"\"], maxlen=70)"
      ],
      "metadata": {
        "id": "5Mqr2WYJhTDz"
      },
      "execution_count": 18,
      "outputs": []
    },
    {
      "cell_type": "code",
      "source": [
        "print(f\"X_train 1번째 값 길이 : {len(X_train[0])}\\nX_test 1번째 값 길이 : {len(X_test[0])}\")"
      ],
      "metadata": {
        "colab": {
          "base_uri": "https://localhost:8080/"
        },
        "id": "miuM7AjEhTF4",
        "outputId": "a0353602-611c-4cff-a390-58f6aa2828c4"
      },
      "execution_count": 19,
      "outputs": [
        {
          "output_type": "stream",
          "name": "stdout",
          "text": [
            "X_train 1번째 값 길이 : 70\n",
            "X_test 1번째 값 길이 : 70\n"
          ]
        }
      ]
    },
    {
      "cell_type": "markdown",
      "source": [
        "## 4. 모델링"
      ],
      "metadata": {
        "id": "I31kgAvkh6iS"
      }
    },
    {
      "cell_type": "markdown",
      "source": [
        "### 4-1. LSTM"
      ],
      "metadata": {
        "id": "Otzn4PYBivfR"
      }
    },
    {
      "cell_type": "code",
      "source": [
        "vocab_size = 30000\n",
        "word_vector_dim = 16\n",
        "\n",
        "model = tf.keras.Sequential()\n",
        "model.add(tf.keras.layers.Embedding(vocab_size, word_vector_dim, input_shape=(None,)))\n",
        "model.add(tf.keras.layers.LSTM(units=8))\n",
        "model.add(tf.keras.layers.Dense(1, activation='sigmoid'))\n",
        "\n",
        "model.compile(optimizer='adam', loss='binary_crossentropy', metrics=['accuracy'])\n",
        "model.summary()"
      ],
      "metadata": {
        "colab": {
          "base_uri": "https://localhost:8080/"
        },
        "id": "p5kw9H4ShTIr",
        "outputId": "b5454047-b55b-46e1-c076-f09e12b10faf"
      },
      "execution_count": 20,
      "outputs": [
        {
          "output_type": "stream",
          "name": "stdout",
          "text": [
            "Model: \"sequential\"\n",
            "_________________________________________________________________\n",
            " Layer (type)                Output Shape              Param #   \n",
            "=================================================================\n",
            " embedding (Embedding)       (None, None, 16)          480000    \n",
            "                                                                 \n",
            " lstm (LSTM)                 (None, 8)                 800       \n",
            "                                                                 \n",
            " dense (Dense)               (None, 1)                 9         \n",
            "                                                                 \n",
            "=================================================================\n",
            "Total params: 480,809\n",
            "Trainable params: 480,809\n",
            "Non-trainable params: 0\n",
            "_________________________________________________________________\n"
          ]
        }
      ]
    },
    {
      "cell_type": "code",
      "source": [
        "X_train, X_val, y_train, y_val = train_test_split(X_train, y_train, test_size=0.2, shuffle=True,\n",
        "                                                  stratify=y_train, random_state=777)"
      ],
      "metadata": {
        "id": "9-mLEs_2hTLN"
      },
      "execution_count": 21,
      "outputs": []
    },
    {
      "cell_type": "code",
      "source": [
        "history = model.fit(X_train, y_train, epochs=10, batch_size=512,\n",
        "                    validation_data=(X_val, y_val), verbose=1)"
      ],
      "metadata": {
        "colab": {
          "base_uri": "https://localhost:8080/"
        },
        "id": "z4JYa4m-hTNw",
        "outputId": "81f49ea2-a440-440c-e1f2-b4695400bf25"
      },
      "execution_count": 22,
      "outputs": [
        {
          "output_type": "stream",
          "name": "stdout",
          "text": [
            "Epoch 1/10\n",
            "229/229 [==============================] - 10s 11ms/step - loss: 0.5185 - accuracy: 0.7753 - val_loss: 0.3867 - val_accuracy: 0.8320\n",
            "Epoch 2/10\n",
            "229/229 [==============================] - 2s 8ms/step - loss: 0.3424 - accuracy: 0.8590 - val_loss: 0.3606 - val_accuracy: 0.8424\n",
            "Epoch 3/10\n",
            "229/229 [==============================] - 2s 9ms/step - loss: 0.3019 - accuracy: 0.8787 - val_loss: 0.3605 - val_accuracy: 0.8426\n",
            "Epoch 4/10\n",
            "229/229 [==============================] - 2s 9ms/step - loss: 0.2770 - accuracy: 0.8908 - val_loss: 0.3656 - val_accuracy: 0.8424\n",
            "Epoch 5/10\n",
            "229/229 [==============================] - 2s 9ms/step - loss: 0.2581 - accuracy: 0.9003 - val_loss: 0.3767 - val_accuracy: 0.8390\n",
            "Epoch 6/10\n",
            "229/229 [==============================] - 2s 9ms/step - loss: 0.2429 - accuracy: 0.9069 - val_loss: 0.3886 - val_accuracy: 0.8388\n",
            "Epoch 7/10\n",
            "229/229 [==============================] - 2s 8ms/step - loss: 0.2292 - accuracy: 0.9135 - val_loss: 0.4012 - val_accuracy: 0.8375\n",
            "Epoch 8/10\n",
            "229/229 [==============================] - 2s 8ms/step - loss: 0.2172 - accuracy: 0.9190 - val_loss: 0.4143 - val_accuracy: 0.8345\n",
            "Epoch 9/10\n",
            "229/229 [==============================] - 2s 8ms/step - loss: 0.2055 - accuracy: 0.9249 - val_loss: 0.4348 - val_accuracy: 0.8322\n",
            "Epoch 10/10\n",
            "229/229 [==============================] - 2s 8ms/step - loss: 0.1958 - accuracy: 0.9284 - val_loss: 0.4364 - val_accuracy: 0.8336\n"
          ]
        }
      ]
    },
    {
      "cell_type": "code",
      "source": [
        "predict = model.evaluate(X_test, y_test, verbose=1)\n",
        "print(predict)"
      ],
      "metadata": {
        "colab": {
          "base_uri": "https://localhost:8080/"
        },
        "id": "sZld1TIlhTQd",
        "outputId": "d6346be9-74c2-44f8-e049-f884024ca0ee"
      },
      "execution_count": 23,
      "outputs": [
        {
          "output_type": "stream",
          "name": "stdout",
          "text": [
            "1537/1537 [==============================] - 6s 4ms/step - loss: 0.4353 - accuracy: 0.8348\n",
            "[0.4353042542934418, 0.8348353505134583]\n"
          ]
        }
      ]
    },
    {
      "cell_type": "code",
      "source": [
        "history_dict = history.history\n",
        "print(history_dict.keys())"
      ],
      "metadata": {
        "colab": {
          "base_uri": "https://localhost:8080/"
        },
        "id": "EhH--fXBiBqI",
        "outputId": "5c74c4fb-b29c-4e2d-efb6-5b7667e9fab7"
      },
      "execution_count": 24,
      "outputs": [
        {
          "output_type": "stream",
          "name": "stdout",
          "text": [
            "dict_keys(['loss', 'accuracy', 'val_loss', 'val_accuracy'])\n"
          ]
        }
      ]
    },
    {
      "cell_type": "code",
      "source": [
        "acc = history_dict['accuracy']\n",
        "val_acc = history_dict['val_accuracy']\n",
        "loss = history_dict['loss']\n",
        "val_loss = history_dict['val_loss']\n",
        "\n",
        "epochs = range(1, len(acc) + 1)\n",
        "\n",
        "plt.plot(epochs, loss, 'r', label='Training loss')\n",
        "plt.plot(epochs, val_loss, 'b', label='Validation loss')\n",
        "plt.title('Training and validation loss')\n",
        "plt.xlabel('Epochs')\n",
        "plt.ylabel('Loss')\n",
        "plt.legend()\n",
        "\n",
        "plt.show()"
      ],
      "metadata": {
        "colab": {
          "base_uri": "https://localhost:8080/",
          "height": 300
        },
        "id": "AJMhBRhBiBsi",
        "outputId": "6aaf816d-1a0a-4fdf-eaad-07f1cb9bfe40"
      },
      "execution_count": 25,
      "outputs": [
        {
          "output_type": "display_data",
          "data": {
            "text/plain": [
              "<Figure size 432x288 with 1 Axes>"
            ],
            "image/png": "[encoded data removed]"
          },
          "metadata": {
            "image/png": {
              "width": 393,
              "height": 283
            }
          }
        }
      ]
    },
    {
      "cell_type": "markdown",
      "source": [
        "### 4-2. Stacked LSTM"
      ],
      "metadata": {
        "id": "PBkMn1HCiFWC"
      }
    },
    {
      "cell_type": "code",
      "source": [
        "vocab_size = 30000\n",
        "word_vector_dim = 16\n",
        "\n",
        "model = tf.keras.Sequential()\n",
        "model.add(tf.keras.layers.Embedding(vocab_size, word_vector_dim, input_shape=(None,)))\n",
        "model.add(tf.keras.layers.LSTM(units=8, return_sequences = True))\n",
        "model.add(tf.keras.layers.LSTM(units=16, return_sequences = False))\n",
        "model.add(tf.keras.layers.Dense(1, activation='sigmoid'))\n",
        "\n",
        "model.compile(optimizer='adam', loss='binary_crossentropy', metrics=['accuracy'])\n",
        "model.summary()"
      ],
      "metadata": {
        "colab": {
          "base_uri": "https://localhost:8080/"
        },
        "id": "8GFZJjCQiBu7",
        "outputId": "a67f17e4-deb4-459d-b073-8f72809380fe"
      },
      "execution_count": 26,
      "outputs": [
        {
          "output_type": "stream",
          "name": "stdout",
          "text": [
            "Model: \"sequential_1\"\n",
            "_________________________________________________________________\n",
            " Layer (type)                Output Shape              Param #   \n",
            "=================================================================\n",
            " embedding_1 (Embedding)     (None, None, 16)          480000    \n",
            "                                                                 \n",
            " lstm_1 (LSTM)               (None, None, 8)           800       \n",
            "                                                                 \n",
            " lstm_2 (LSTM)               (None, 16)                1600      \n",
            "                                                                 \n",
            " dense_1 (Dense)             (None, 1)                 17        \n",
            "                                                                 \n",
            "=================================================================\n",
            "Total params: 482,417\n",
            "Trainable params: 482,417\n",
            "Non-trainable params: 0\n",
            "_________________________________________________________________\n"
          ]
        }
      ]
    },
    {
      "cell_type": "code",
      "source": [
        "X_train, X_val, y_train, y_val = train_test_split(X_train, y_train, test_size=0.2, shuffle=True,\n",
        "                                                  stratify=y_train, random_state=42)"
      ],
      "metadata": {
        "id": "S9hM4SPPiBxY"
      },
      "execution_count": 27,
      "outputs": []
    },
    {
      "cell_type": "code",
      "source": [
        "history = model.fit(X_train, y_train, epochs=10, batch_size=512,\n",
        "                    validation_data=(X_val, y_val), verbose=1)"
      ],
      "metadata": {
        "colab": {
          "base_uri": "https://localhost:8080/"
        },
        "id": "cMyxf6DWjXQj",
        "outputId": "60f7303d-e3cc-4a4c-b0d9-20f651274309"
      },
      "execution_count": 28,
      "outputs": [
        {
          "output_type": "stream",
          "name": "stdout",
          "text": [
            "Epoch 1/10\n",
            "183/183 [==============================] - 6s 16ms/step - loss: 0.5477 - accuracy: 0.7417 - val_loss: 0.4181 - val_accuracy: 0.8190\n",
            "Epoch 2/10\n",
            "183/183 [==============================] - 2s 12ms/step - loss: 0.3550 - accuracy: 0.8528 - val_loss: 0.3643 - val_accuracy: 0.8424\n",
            "Epoch 3/10\n",
            "183/183 [==============================] - 2s 12ms/step - loss: 0.3010 - accuracy: 0.8783 - val_loss: 0.3612 - val_accuracy: 0.8457\n",
            "Epoch 4/10\n",
            "183/183 [==============================] - 2s 12ms/step - loss: 0.2698 - accuracy: 0.8937 - val_loss: 0.3730 - val_accuracy: 0.8438\n",
            "Epoch 5/10\n",
            "183/183 [==============================] - 2s 12ms/step - loss: 0.2447 - accuracy: 0.9057 - val_loss: 0.3895 - val_accuracy: 0.8399\n",
            "Epoch 6/10\n",
            "183/183 [==============================] - 2s 11ms/step - loss: 0.2251 - accuracy: 0.9145 - val_loss: 0.4003 - val_accuracy: 0.8363\n",
            "Epoch 7/10\n",
            "183/183 [==============================] - 2s 11ms/step - loss: 0.2096 - accuracy: 0.9223 - val_loss: 0.4191 - val_accuracy: 0.8350\n",
            "Epoch 8/10\n",
            "183/183 [==============================] - 2s 12ms/step - loss: 0.1965 - accuracy: 0.9272 - val_loss: 0.4432 - val_accuracy: 0.8322\n",
            "Epoch 9/10\n",
            "183/183 [==============================] - 2s 11ms/step - loss: 0.1837 - accuracy: 0.9327 - val_loss: 0.4448 - val_accuracy: 0.8294\n",
            "Epoch 10/10\n",
            "183/183 [==============================] - 2s 12ms/step - loss: 0.1716 - accuracy: 0.9386 - val_loss: 0.4832 - val_accuracy: 0.8273\n"
          ]
        }
      ]
    },
    {
      "cell_type": "code",
      "source": [
        "predict = model.evaluate(X_test, y_test, verbose=1)\n",
        "print(predict)"
      ],
      "metadata": {
        "colab": {
          "base_uri": "https://localhost:8080/"
        },
        "id": "UuxZU1dwjXOW",
        "outputId": "0ff38d1c-2fa0-4a33-ba74-b797013e81ea"
      },
      "execution_count": 29,
      "outputs": [
        {
          "output_type": "stream",
          "name": "stdout",
          "text": [
            "1537/1537 [==============================] - 11s 7ms/step - loss: 0.4886 - accuracy: 0.8272\n",
            "[0.4885985553264618, 0.8272473812103271]\n"
          ]
        }
      ]
    },
    {
      "cell_type": "code",
      "source": [
        "history_dict = history.history\n",
        "print(history_dict.keys())"
      ],
      "metadata": {
        "colab": {
          "base_uri": "https://localhost:8080/"
        },
        "id": "eUfuTEQDjXL-",
        "outputId": "fb7162c7-1ccc-4da2-c543-6efe0db037f5"
      },
      "execution_count": 30,
      "outputs": [
        {
          "output_type": "stream",
          "name": "stdout",
          "text": [
            "dict_keys(['loss', 'accuracy', 'val_loss', 'val_accuracy'])\n"
          ]
        }
      ]
    },
    {
      "cell_type": "code",
      "source": [
        "acc = history_dict['accuracy']\n",
        "val_acc = history_dict['val_accuracy']\n",
        "loss = history_dict['loss']\n",
        "val_loss = history_dict['val_loss']\n",
        "\n",
        "epochs = range(1, len(acc) + 1)\n",
        "\n",
        "plt.plot(epochs, loss, 'r', label='Training loss')\n",
        "plt.plot(epochs, val_loss, 'b', label='Validation loss')\n",
        "plt.title('Training and validation loss')\n",
        "plt.xlabel('Epochs')\n",
        "plt.ylabel('Loss')\n",
        "plt.legend()\n",
        "\n",
        "plt.show()"
      ],
      "metadata": {
        "colab": {
          "base_uri": "https://localhost:8080/",
          "height": 300
        },
        "id": "vxUXqpGNjXJw",
        "outputId": "bb3b7451-5fc0-4eac-971d-e7d0ed7bd676"
      },
      "execution_count": 31,
      "outputs": [
        {
          "output_type": "display_data",
          "data": {
            "text/plain": [
              "<Figure size 432x288 with 1 Axes>"
            ],
            "image/png": "[encoded data removed]"
          },
          "metadata": {
            "image/png": {
              "width": 393,
              "height": 283
            }
          }
        }
      ]
    },
    {
      "cell_type": "markdown",
      "source": [
        "### 4-3. CNN"
      ],
      "metadata": {
        "id": "OORiECCSj9er"
      }
    },
    {
      "cell_type": "code",
      "source": [
        "vocab_size = 30000\n",
        "word_vector_dim = 32\n",
        "\n",
        "model = tf.keras.Sequential()\n",
        "model.add(tf.keras.layers.Embedding(vocab_size, word_vector_dim, input_shape=(None,)))\n",
        "model.add(tf.keras.layers.Conv1D(16, 5, activation='relu'))\n",
        "model.add(tf.keras.layers.MaxPooling1D(5))\n",
        "model.add(tf.keras.layers.Conv1D(16, 5, activation='relu'))\n",
        "model.add(tf.keras.layers.GlobalMaxPooling1D())\n",
        "model.add(tf.keras.layers.Dropout(rate=0.5))\n",
        "model.add(tf.keras.layers.Dense(8, activation='relu'))\n",
        "model.add(tf.keras.layers.Dense(1, activation='sigmoid'))\n",
        "\n",
        "\n",
        "model.compile(optimizer='adam',\n",
        "             loss='binary_crossentropy',\n",
        "             metrics=['accuracy'])\n",
        "\n",
        "model.summary()"
      ],
      "metadata": {
        "colab": {
          "base_uri": "https://localhost:8080/"
        },
        "id": "JSCxSxBhjXHY",
        "outputId": "eff25b5b-56d9-4c0a-da53-d5e870ecc4b3"
      },
      "execution_count": 32,
      "outputs": [
        {
          "output_type": "stream",
          "name": "stdout",
          "text": [
            "Model: \"sequential_2\"\n",
            "_________________________________________________________________\n",
            " Layer (type)                Output Shape              Param #   \n",
            "=================================================================\n",
            " embedding_2 (Embedding)     (None, None, 32)          960000    \n",
            "                                                                 \n",
            " conv1d (Conv1D)             (None, None, 16)          2576      \n",
            "                                                                 \n",
            " max_pooling1d (MaxPooling1D  (None, None, 16)         0         \n",
            " )                                                               \n",
            "                                                                 \n",
            " conv1d_1 (Conv1D)           (None, None, 16)          1296      \n",
            "                                                                 \n",
            " global_max_pooling1d (Globa  (None, 16)               0         \n",
            " lMaxPooling1D)                                                  \n",
            "                                                                 \n",
            " dropout (Dropout)           (None, 16)                0         \n",
            "                                                                 \n",
            " dense_2 (Dense)             (None, 8)                 136       \n",
            "                                                                 \n",
            " dense_3 (Dense)             (None, 1)                 9         \n",
            "                                                                 \n",
            "=================================================================\n",
            "Total params: 964,017\n",
            "Trainable params: 964,017\n",
            "Non-trainable params: 0\n",
            "_________________________________________________________________\n"
          ]
        }
      ]
    },
    {
      "cell_type": "code",
      "source": [
        "X_train, X_val, y_train, y_val = train_test_split(X_train, y_train, test_size=0.2, shuffle=True,\n",
        "                                                  stratify=y_train, random_state=42)"
      ],
      "metadata": {
        "id": "uNLZjPYUjW-h"
      },
      "execution_count": 33,
      "outputs": []
    },
    {
      "cell_type": "code",
      "source": [
        "history = model.fit(X_train, y_train, validation_data=(X_val, y_val),\n",
        "                    batch_size=512, epochs=10, verbose=1)"
      ],
      "metadata": {
        "colab": {
          "base_uri": "https://localhost:8080/"
        },
        "id": "eO3LUYrIkCT5",
        "outputId": "0d943da1-dffb-4c00-ad66-0ce4a9287d6b"
      },
      "execution_count": 34,
      "outputs": [
        {
          "output_type": "stream",
          "name": "stdout",
          "text": [
            "Epoch 1/10\n",
            "147/147 [==============================] - 7s 9ms/step - loss: 0.6423 - accuracy: 0.6354 - val_loss: 0.5092 - val_accuracy: 0.7909\n",
            "Epoch 2/10\n",
            "147/147 [==============================] - 1s 6ms/step - loss: 0.4495 - accuracy: 0.8117 - val_loss: 0.4093 - val_accuracy: 0.8128\n",
            "Epoch 3/10\n",
            "147/147 [==============================] - 1s 6ms/step - loss: 0.3588 - accuracy: 0.8552 - val_loss: 0.4101 - val_accuracy: 0.8146\n",
            "Epoch 4/10\n",
            "147/147 [==============================] - 1s 6ms/step - loss: 0.3027 - accuracy: 0.8830 - val_loss: 0.4270 - val_accuracy: 0.8118\n",
            "Epoch 5/10\n",
            "147/147 [==============================] - 1s 7ms/step - loss: 0.2534 - accuracy: 0.9043 - val_loss: 0.4589 - val_accuracy: 0.8031\n",
            "Epoch 6/10\n",
            "147/147 [==============================] - 1s 9ms/step - loss: 0.2124 - accuracy: 0.9202 - val_loss: 0.5034 - val_accuracy: 0.8055\n",
            "Epoch 7/10\n",
            "147/147 [==============================] - 1s 9ms/step - loss: 0.1815 - accuracy: 0.9316 - val_loss: 0.5385 - val_accuracy: 0.8026\n",
            "Epoch 8/10\n",
            "147/147 [==============================] - 2s 11ms/step - loss: 0.1568 - accuracy: 0.9411 - val_loss: 0.6028 - val_accuracy: 0.7991\n",
            "Epoch 9/10\n",
            "147/147 [==============================] - 2s 12ms/step - loss: 0.1392 - accuracy: 0.9481 - val_loss: 0.6434 - val_accuracy: 0.7970\n",
            "Epoch 10/10\n",
            "147/147 [==============================] - 2s 11ms/step - loss: 0.1227 - accuracy: 0.9527 - val_loss: 0.6976 - val_accuracy: 0.7932\n"
          ]
        }
      ]
    },
    {
      "cell_type": "code",
      "source": [
        "predict = model.evaluate(X_test, y_test, verbose=1)\n",
        "print(predict)"
      ],
      "metadata": {
        "colab": {
          "base_uri": "https://localhost:8080/"
        },
        "id": "vhrIT6nQkDtQ",
        "outputId": "4f30c018-dd13-410f-ac41-a71abb72ece9"
      },
      "execution_count": 35,
      "outputs": [
        {
          "output_type": "stream",
          "name": "stdout",
          "text": [
            "1537/1537 [==============================] - 8s 5ms/step - loss: 0.6910 - accuracy: 0.7932\n",
            "[0.6909631490707397, 0.7932339310646057]\n"
          ]
        }
      ]
    },
    {
      "cell_type": "code",
      "source": [
        "history_dict = history.history\n",
        "print(history_dict.keys())"
      ],
      "metadata": {
        "colab": {
          "base_uri": "https://localhost:8080/"
        },
        "id": "F6xxytsvkEpJ",
        "outputId": "757f9717-85a8-4f54-bf08-ea30553bb7b2"
      },
      "execution_count": 36,
      "outputs": [
        {
          "output_type": "stream",
          "name": "stdout",
          "text": [
            "dict_keys(['loss', 'accuracy', 'val_loss', 'val_accuracy'])\n"
          ]
        }
      ]
    },
    {
      "cell_type": "code",
      "source": [
        "acc = history_dict['accuracy']\n",
        "val_acc = history_dict['val_accuracy']\n",
        "loss = history_dict['loss']\n",
        "val_loss = history_dict['val_loss']\n",
        "\n",
        "epochs = range(1, len(acc) + 1)\n",
        "\n",
        "plt.plot(epochs, loss, 'r', label='Training loss')\n",
        "plt.plot(epochs, val_loss, 'b', label='Validation loss')\n",
        "plt.title('Training and validation loss')\n",
        "plt.xlabel('Epochs')\n",
        "plt.ylabel('Loss')\n",
        "plt.legend()\n",
        "\n",
        "plt.show()"
      ],
      "metadata": {
        "colab": {
          "base_uri": "https://localhost:8080/",
          "height": 300
        },
        "id": "qoFaiwAPkGf5",
        "outputId": "c89f91ff-ef60-407a-945f-879fed8d81fb"
      },
      "execution_count": 37,
      "outputs": [
        {
          "output_type": "display_data",
          "data": {
            "text/plain": [
              "<Figure size 432x288 with 1 Axes>"
            ],
            "image/png": "[encoded data removed]"
          },
          "metadata": {
            "image/png": {
              "width": 387,
              "height": 283
            }
          }
        }
      ]
    },
    {
      "cell_type": "code",
      "source": [],
      "metadata": {
        "id": "YZphPx7rkGcA"
      },
      "execution_count": null,
      "outputs": []
    }
  ]
}